{
 "cells": [
  {
   "cell_type": "markdown",
   "metadata": {},
   "source": [
    "## Dataset Cleaning: Company Slogans\n",
    "----"
   ]
  },
  {
   "cell_type": "markdown",
   "metadata": {},
   "source": [
    "In this project, I clean a dataset consisting of various company slogans so that it may be used for other purposes. "
   ]
  },
  {
   "cell_type": "code",
   "execution_count": 1,
   "metadata": {},
   "outputs": [],
   "source": [
    "## import packages\n",
    "import pandas as pd \n",
    "from nltk.corpus import stopwords\n",
    "from nltk.tokenize import word_tokenize"
   ]
  },
  {
   "cell_type": "code",
   "execution_count": 2,
   "metadata": {},
   "outputs": [],
   "source": [
    "## dataset url = https://github.com/ChaiBapchya/slogans/blob/master/sloganlist.csv"
   ]
  },
  {
   "cell_type": "code",
   "execution_count": 3,
   "metadata": {},
   "outputs": [],
   "source": [
    "## initialize dataset\n",
    "df_slogans = pd.read_csv('slogans.csv')"
   ]
  },
  {
   "cell_type": "code",
   "execution_count": 4,
   "metadata": {},
   "outputs": [
    {
     "data": {
      "text/plain": [
       "(1162, 2)"
      ]
     },
     "execution_count": 4,
     "metadata": {},
     "output_type": "execute_result"
    }
   ],
   "source": [
    "## get shape\n",
    "df_slogans.shape"
   ]
  },
  {
   "cell_type": "code",
   "execution_count": 5,
   "metadata": {},
   "outputs": [
    {
     "name": "stdout",
     "output_type": "stream",
     "text": [
      "<class 'pandas.core.frame.DataFrame'>\n",
      "RangeIndex: 1162 entries, 0 to 1161\n",
      "Data columns (total 2 columns):\n",
      " #   Column   Non-Null Count  Dtype \n",
      "---  ------   --------------  ----- \n",
      " 0   Company  1162 non-null   object\n",
      " 1   Slogan   1162 non-null   object\n",
      "dtypes: object(2)\n",
      "memory usage: 18.3+ KB\n"
     ]
    }
   ],
   "source": [
    "## get info\n",
    "df_slogans.info()"
   ]
  },
  {
   "cell_type": "code",
   "execution_count": 6,
   "metadata": {},
   "outputs": [
    {
     "data": {
      "text/html": [
       "<div>\n",
       "<style scoped>\n",
       "    .dataframe tbody tr th:only-of-type {\n",
       "        vertical-align: middle;\n",
       "    }\n",
       "\n",
       "    .dataframe tbody tr th {\n",
       "        vertical-align: top;\n",
       "    }\n",
       "\n",
       "    .dataframe thead th {\n",
       "        text-align: right;\n",
       "    }\n",
       "</style>\n",
       "<table border=\"1\" class=\"dataframe\">\n",
       "  <thead>\n",
       "    <tr style=\"text-align: right;\">\n",
       "      <th></th>\n",
       "      <th>Company</th>\n",
       "      <th>Slogan</th>\n",
       "    </tr>\n",
       "  </thead>\n",
       "  <tbody>\n",
       "    <tr>\n",
       "      <th>0</th>\n",
       "      <td>Costa Coffee</td>\n",
       "      <td>For coffee lovers.</td>\n",
       "    </tr>\n",
       "    <tr>\n",
       "      <th>1</th>\n",
       "      <td>Evian</td>\n",
       "      <td>Evian. Live young.</td>\n",
       "    </tr>\n",
       "    <tr>\n",
       "      <th>2</th>\n",
       "      <td>Dasani</td>\n",
       "      <td>Designed to make a difference.</td>\n",
       "    </tr>\n",
       "    <tr>\n",
       "      <th>3</th>\n",
       "      <td>Heineken</td>\n",
       "      <td>It's all about the beer.</td>\n",
       "    </tr>\n",
       "    <tr>\n",
       "      <th>4</th>\n",
       "      <td>Gatorade</td>\n",
       "      <td>The Legend Continues.</td>\n",
       "    </tr>\n",
       "  </tbody>\n",
       "</table>\n",
       "</div>"
      ],
      "text/plain": [
       "        Company                          Slogan\n",
       "0  Costa Coffee              For coffee lovers.\n",
       "1         Evian              Evian. Live young.\n",
       "2        Dasani  Designed to make a difference.\n",
       "3      Heineken        It's all about the beer.\n",
       "4      Gatorade           The Legend Continues."
      ]
     },
     "execution_count": 6,
     "metadata": {},
     "output_type": "execute_result"
    }
   ],
   "source": [
    "## get first five rows\n",
    "df_slogans.head()"
   ]
  },
  {
   "cell_type": "code",
   "execution_count": 7,
   "metadata": {},
   "outputs": [
    {
     "data": {
      "text/plain": [
       "Company    0\n",
       "Slogan     0\n",
       "dtype: int64"
      ]
     },
     "execution_count": 7,
     "metadata": {},
     "output_type": "execute_result"
    }
   ],
   "source": [
    "## check for missing values\n",
    "df_slogans.isna().sum()"
   ]
  },
  {
   "cell_type": "code",
   "execution_count": 8,
   "metadata": {},
   "outputs": [],
   "source": [
    "## ascii characters \n",
    "df_slogans['Slogan'] = df_slogans['Slogan'].str.encode('ascii', 'ignore').str.decode('ascii')"
   ]
  },
  {
   "cell_type": "code",
   "execution_count": 9,
   "metadata": {},
   "outputs": [],
   "source": [
    "## convert to lowercase and remove lead space\n",
    "df_slogans['Slogan'] = df_slogans['Slogan'].str.lower()\n",
    "df_slogans['Slogan'] = df_slogans['Slogan'].str.strip()\n",
    "\n",
    "df_slogans['Company'] = df_slogans['Company'].str.lower()\n",
    "df_slogans['Company'] = df_slogans['Company'].str.strip()"
   ]
  },
  {
   "cell_type": "code",
   "execution_count": 10,
   "metadata": {},
   "outputs": [
    {
     "data": {
      "text/html": [
       "<div>\n",
       "<style scoped>\n",
       "    .dataframe tbody tr th:only-of-type {\n",
       "        vertical-align: middle;\n",
       "    }\n",
       "\n",
       "    .dataframe tbody tr th {\n",
       "        vertical-align: top;\n",
       "    }\n",
       "\n",
       "    .dataframe thead th {\n",
       "        text-align: right;\n",
       "    }\n",
       "</style>\n",
       "<table border=\"1\" class=\"dataframe\">\n",
       "  <thead>\n",
       "    <tr style=\"text-align: right;\">\n",
       "      <th></th>\n",
       "      <th>Company</th>\n",
       "      <th>Slogan</th>\n",
       "    </tr>\n",
       "  </thead>\n",
       "  <tbody>\n",
       "    <tr>\n",
       "      <th>0</th>\n",
       "      <td>costa coffee</td>\n",
       "      <td>for coffee lovers</td>\n",
       "    </tr>\n",
       "    <tr>\n",
       "      <th>1</th>\n",
       "      <td>evian</td>\n",
       "      <td>evian live young</td>\n",
       "    </tr>\n",
       "    <tr>\n",
       "      <th>2</th>\n",
       "      <td>dasani</td>\n",
       "      <td>designed to make a difference</td>\n",
       "    </tr>\n",
       "    <tr>\n",
       "      <th>3</th>\n",
       "      <td>heineken</td>\n",
       "      <td>its all about the beer</td>\n",
       "    </tr>\n",
       "    <tr>\n",
       "      <th>4</th>\n",
       "      <td>gatorade</td>\n",
       "      <td>the legend continues</td>\n",
       "    </tr>\n",
       "    <tr>\n",
       "      <th>...</th>\n",
       "      <td>...</td>\n",
       "      <td>...</td>\n",
       "    </tr>\n",
       "    <tr>\n",
       "      <th>1157</th>\n",
       "      <td>levis jeans</td>\n",
       "      <td>original jeans original people</td>\n",
       "    </tr>\n",
       "    <tr>\n",
       "      <th>1158</th>\n",
       "      <td>dove toiletries</td>\n",
       "      <td>the secret of beautiful hair</td>\n",
       "    </tr>\n",
       "    <tr>\n",
       "      <th>1159</th>\n",
       "      <td>lipton</td>\n",
       "      <td>be more tea</td>\n",
       "    </tr>\n",
       "    <tr>\n",
       "      <th>1160</th>\n",
       "      <td>pampers</td>\n",
       "      <td>discover your babys world</td>\n",
       "    </tr>\n",
       "    <tr>\n",
       "      <th>1161</th>\n",
       "      <td>cocacola</td>\n",
       "      <td>taste the feeling</td>\n",
       "    </tr>\n",
       "  </tbody>\n",
       "</table>\n",
       "<p>1162 rows × 2 columns</p>\n",
       "</div>"
      ],
      "text/plain": [
       "              Company                          Slogan\n",
       "0        costa coffee               for coffee lovers\n",
       "1               evian                evian live young\n",
       "2              dasani   designed to make a difference\n",
       "3            heineken          its all about the beer\n",
       "4            gatorade            the legend continues\n",
       "...               ...                             ...\n",
       "1157      levis jeans  original jeans original people\n",
       "1158  dove toiletries    the secret of beautiful hair\n",
       "1159           lipton                     be more tea\n",
       "1160          pampers       discover your babys world\n",
       "1161         cocacola               taste the feeling\n",
       "\n",
       "[1162 rows x 2 columns]"
      ]
     },
     "execution_count": 10,
     "metadata": {},
     "output_type": "execute_result"
    }
   ],
   "source": [
    "def no_punctuation(slogan):\n",
    "    try:\n",
    "        slogan = slogan.str.replace('[^\\w\\s]','')\n",
    "    except:\n",
    "        pass\n",
    "    return slogan\n",
    "\n",
    "df_slogans.apply(no_punctuation)"
   ]
  },
  {
   "cell_type": "code",
   "execution_count": 11,
   "metadata": {},
   "outputs": [],
   "source": [
    "## remove stopwords\n",
    "stop = stopwords.words('english')\n",
    "\n",
    "df_slogans['Slogan'] = df_slogans['Slogan'].apply(\n",
    "    lambda x: ' '.join([word for word in x.split() if word not in (stop)]))"
   ]
  },
  {
   "cell_type": "code",
   "execution_count": 12,
   "metadata": {},
   "outputs": [
    {
     "data": {
      "text/plain": [
       "0                             [coffee, lovers, .]\n",
       "1                      [evian, ., live, young, .]\n",
       "2                 [designed, make, difference, .]\n",
       "3                                       [beer, .]\n",
       "4                          [legend, continues, .]\n",
       "                          ...                    \n",
       "1157    [original, jeans, ., original, people, .]\n",
       "1158                 [secret, beautiful, hair, .]\n",
       "1159                                     [tea, .]\n",
       "1160                  [discover, babys, world, .]\n",
       "1161                          [taste, feeling, .]\n",
       "Name: Slogan, Length: 1162, dtype: object"
      ]
     },
     "execution_count": 12,
     "metadata": {},
     "output_type": "execute_result"
    }
   ],
   "source": [
    "## tokenize the data\n",
    "df_slogans['Slogan'] = df_slogans['Slogan'].apply(word_tokenize)\n",
    "\n",
    "df_slogans['Slogan']"
   ]
  }
 ],
 "metadata": {
  "kernelspec": {
   "display_name": "Python 3",
   "language": "python",
   "name": "python3"
  },
  "language_info": {
   "codemirror_mode": {
    "name": "ipython",
    "version": 3
   },
   "file_extension": ".py",
   "mimetype": "text/x-python",
   "name": "python",
   "nbconvert_exporter": "python",
   "pygments_lexer": "ipython3",
   "version": "3.7.6"
  }
 },
 "nbformat": 4,
 "nbformat_minor": 4
}
