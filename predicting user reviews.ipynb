{
 "cells": [
  {
   "cell_type": "markdown",
   "metadata": {},
   "source": [
    "# Predicting User Reviews through Sentiment\n",
    "----"
   ]
  },
  {
   "cell_type": "markdown",
   "metadata": {},
   "source": [
    "In this project, I construct a model to predict user reviews based upon sentiment. I utilize unsupervised machine learning for prediction. I perform data cleaning techniques in order to use the dataset. The dataset consists of user reviews of various resturants in the United States. Although available on Yelp.com, I utilized a smaller version of the dataset due to computer processing limits. "
   ]
  },
  {
   "cell_type": "code",
   "execution_count": 1,
   "metadata": {},
   "outputs": [],
   "source": [
    "## full dataset url: https://www.yelp.com/dataset/download"
   ]
  },
  {
   "cell_type": "code",
   "execution_count": 2,
   "metadata": {},
   "outputs": [],
   "source": [
    "## import programs\n",
    "import numpy as np\n",
    "import pandas as pd\n",
    "import seaborn as sns\n",
    "from sklearn.model_selection import train_test_split\n",
    "from sklearn.feature_extraction.text import CountVectorizer\n",
    "from sklearn.linear_model import LogisticRegression\n",
    "from sklearn.metrics import roc_curve, roc_auc_score, auc\n",
    "import matplotlib.pyplot as plt\n",
    "from nltk.tokenize import word_tokenize\n",
    "from nltk.corpus import stopwords\n"
   ]
  },
  {
   "cell_type": "code",
   "execution_count": 3,
   "metadata": {},
   "outputs": [
    {
     "name": "stderr",
     "output_type": "stream",
     "text": [
      "Skipping line 27292: unexpected end of data\n"
     ]
    }
   ],
   "source": [
    "## Converted csv tp pandas dataset\n",
    "yelp_df = pd.read_csv('C:/Users/Student/Downloads/yelp_csv.csv',engine='python', error_bad_lines=False)"
   ]
  },
  {
   "cell_type": "code",
   "execution_count": 4,
   "metadata": {},
   "outputs": [
    {
     "name": "stdout",
     "output_type": "stream",
     "text": [
      "<class 'pandas.core.frame.DataFrame'>\n",
      "RangeIndex: 27290 entries, 0 to 27289\n",
      "Data columns (total 10 columns):\n",
      " #   Column        Non-Null Count  Dtype \n",
      "---  ------        --------------  ----- \n",
      " 0   user_id       27290 non-null  object\n",
      " 1   review_id     27290 non-null  object\n",
      " 2   text          27290 non-null  object\n",
      " 3   votes.cool    27290 non-null  int64 \n",
      " 4   business_id   27290 non-null  object\n",
      " 5   votes.funny   27290 non-null  int64 \n",
      " 6   stars         27290 non-null  int64 \n",
      " 7   date          27290 non-null  object\n",
      " 8   type          27290 non-null  object\n",
      " 9   votes.useful  27290 non-null  int64 \n",
      "dtypes: int64(4), object(6)\n",
      "memory usage: 2.1+ MB\n"
     ]
    }
   ],
   "source": [
    "## dataset information\n",
    "yelp_df.info()"
   ]
  },
  {
   "cell_type": "code",
   "execution_count": 5,
   "metadata": {},
   "outputs": [
    {
     "data": {
      "text/html": [
       "<div>\n",
       "<style scoped>\n",
       "    .dataframe tbody tr th:only-of-type {\n",
       "        vertical-align: middle;\n",
       "    }\n",
       "\n",
       "    .dataframe tbody tr th {\n",
       "        vertical-align: top;\n",
       "    }\n",
       "\n",
       "    .dataframe thead th {\n",
       "        text-align: right;\n",
       "    }\n",
       "</style>\n",
       "<table border=\"1\" class=\"dataframe\">\n",
       "  <thead>\n",
       "    <tr style=\"text-align: right;\">\n",
       "      <th></th>\n",
       "      <th>user_id</th>\n",
       "      <th>review_id</th>\n",
       "      <th>text</th>\n",
       "      <th>votes.cool</th>\n",
       "      <th>business_id</th>\n",
       "      <th>votes.funny</th>\n",
       "      <th>stars</th>\n",
       "      <th>date</th>\n",
       "      <th>type</th>\n",
       "      <th>votes.useful</th>\n",
       "    </tr>\n",
       "  </thead>\n",
       "  <tbody>\n",
       "    <tr>\n",
       "      <th>0</th>\n",
       "      <td>PUFPaY9KxDAcGqfsorJp3Q</td>\n",
       "      <td>Ya85v4eqdd6k9Od8HbQjyA</td>\n",
       "      <td>Mr Hoagie is an institution. Walking in, it do...</td>\n",
       "      <td>0</td>\n",
       "      <td>5UmKMjUEUNdYWqANhGckJw</td>\n",
       "      <td>0</td>\n",
       "      <td>4</td>\n",
       "      <td>2012-08-01</td>\n",
       "      <td>review</td>\n",
       "      <td>0</td>\n",
       "    </tr>\n",
       "    <tr>\n",
       "      <th>1</th>\n",
       "      <td>Iu6AxdBYGR4A0wspR9BYHA</td>\n",
       "      <td>KPvLNJ21_4wbYNctrOwWdQ</td>\n",
       "      <td>Excellent food. Superb customer service. I mis...</td>\n",
       "      <td>0</td>\n",
       "      <td>5UmKMjUEUNdYWqANhGckJw</td>\n",
       "      <td>0</td>\n",
       "      <td>5</td>\n",
       "      <td>2014-02-13</td>\n",
       "      <td>review</td>\n",
       "      <td>0</td>\n",
       "    </tr>\n",
       "    <tr>\n",
       "      <th>2</th>\n",
       "      <td>auESFwWvW42h6alXgFxAXQ</td>\n",
       "      <td>fFSoGV46Yxuwbr3fHNuZig</td>\n",
       "      <td>Yes this place is a little out dated and not o...</td>\n",
       "      <td>0</td>\n",
       "      <td>5UmKMjUEUNdYWqANhGckJw</td>\n",
       "      <td>0</td>\n",
       "      <td>5</td>\n",
       "      <td>2015-10-31</td>\n",
       "      <td>review</td>\n",
       "      <td>0</td>\n",
       "    </tr>\n",
       "    <tr>\n",
       "      <th>3</th>\n",
       "      <td>uK8tzraOp4M5u3uYrqIBXg</td>\n",
       "      <td>Di3exaUCFNw1V4kSNW5pgA</td>\n",
       "      <td>All the food is great here. But the best thing...</td>\n",
       "      <td>0</td>\n",
       "      <td>UsFtqoBl7naz8AVUBZMjQQ</td>\n",
       "      <td>0</td>\n",
       "      <td>5</td>\n",
       "      <td>2013-11-08</td>\n",
       "      <td>review</td>\n",
       "      <td>0</td>\n",
       "    </tr>\n",
       "    <tr>\n",
       "      <th>4</th>\n",
       "      <td>I_47G-R2_egp7ME5u_ltew</td>\n",
       "      <td>0Lua2-PbqEQMjD9r89-asw</td>\n",
       "      <td>We checked this place out this past Monday for...</td>\n",
       "      <td>0</td>\n",
       "      <td>UsFtqoBl7naz8AVUBZMjQQ</td>\n",
       "      <td>0</td>\n",
       "      <td>3</td>\n",
       "      <td>2014-03-29</td>\n",
       "      <td>review</td>\n",
       "      <td>0</td>\n",
       "    </tr>\n",
       "  </tbody>\n",
       "</table>\n",
       "</div>"
      ],
      "text/plain": [
       "                  user_id               review_id  \\\n",
       "0  PUFPaY9KxDAcGqfsorJp3Q  Ya85v4eqdd6k9Od8HbQjyA   \n",
       "1  Iu6AxdBYGR4A0wspR9BYHA  KPvLNJ21_4wbYNctrOwWdQ   \n",
       "2  auESFwWvW42h6alXgFxAXQ  fFSoGV46Yxuwbr3fHNuZig   \n",
       "3  uK8tzraOp4M5u3uYrqIBXg  Di3exaUCFNw1V4kSNW5pgA   \n",
       "4  I_47G-R2_egp7ME5u_ltew  0Lua2-PbqEQMjD9r89-asw   \n",
       "\n",
       "                                                text  votes.cool  \\\n",
       "0  Mr Hoagie is an institution. Walking in, it do...           0   \n",
       "1  Excellent food. Superb customer service. I mis...           0   \n",
       "2  Yes this place is a little out dated and not o...           0   \n",
       "3  All the food is great here. But the best thing...           0   \n",
       "4  We checked this place out this past Monday for...           0   \n",
       "\n",
       "              business_id  votes.funny  stars        date    type  \\\n",
       "0  5UmKMjUEUNdYWqANhGckJw            0      4  2012-08-01  review   \n",
       "1  5UmKMjUEUNdYWqANhGckJw            0      5  2014-02-13  review   \n",
       "2  5UmKMjUEUNdYWqANhGckJw            0      5  2015-10-31  review   \n",
       "3  UsFtqoBl7naz8AVUBZMjQQ            0      5  2013-11-08  review   \n",
       "4  UsFtqoBl7naz8AVUBZMjQQ            0      3  2014-03-29  review   \n",
       "\n",
       "   votes.useful  \n",
       "0             0  \n",
       "1             0  \n",
       "2             0  \n",
       "3             0  \n",
       "4             0  "
      ]
     },
     "execution_count": 5,
     "metadata": {},
     "output_type": "execute_result"
    }
   ],
   "source": [
    "## first 5 rows of dataset\n",
    "yelp_df.head()"
   ]
  },
  {
   "cell_type": "code",
   "execution_count": 6,
   "metadata": {},
   "outputs": [
    {
     "name": "stdout",
     "output_type": "stream",
     "text": [
      "count    27290.000000\n",
      "mean         3.623232\n",
      "std          1.320829\n",
      "min          1.000000\n",
      "25%          3.000000\n",
      "50%          4.000000\n",
      "75%          5.000000\n",
      "max          5.000000\n",
      "Name: stars, dtype: float64\n"
     ]
    }
   ],
   "source": [
    "## summarize review rating values\n",
    "print(yelp_df['stars'].describe())"
   ]
  },
  {
   "cell_type": "code",
   "execution_count": 7,
   "metadata": {},
   "outputs": [
    {
     "data": {
      "image/png": "[encoded data removed]",
      "text/plain": [
       "<Figure size 432x288 with 1 Axes>"
      ]
     },
     "metadata": {
      "needs_background": "light"
     },
     "output_type": "display_data"
    }
   ],
   "source": [
    "## graph distribution of ratings\n",
    "ax = sns.distplot(yelp_df['stars'], bins = 25)\n",
    "ax.set(xlabel='Stars', ylabel='Number of Reviews')\n",
    "\n",
    "plt.title('User Reviews', fontsize = 15)\n",
    "plt.show()"
   ]
  },
  {
   "cell_type": "markdown",
   "metadata": {},
   "source": [
    "The reviews are distributed mostly in the 4 - 5 star range. "
   ]
  },
  {
   "cell_type": "code",
   "execution_count": 8,
   "metadata": {},
   "outputs": [],
   "source": [
    "## sorted data with positive rating = 1 & negative rating = 0 identifiers\n",
    "yelp_df = yelp_df[yelp_df['stars']!= 3]\n",
    "yelp_df['Positively_Rated'] = np.where(yelp_df['stars']>3, 1, 0)"
   ]
  },
  {
   "cell_type": "code",
   "execution_count": 9,
   "metadata": {},
   "outputs": [],
   "source": [
    "## data cleaning\n",
    "yelp_df[\"NoPunctuation\"] = yelp_df['text'].str.replace('[^\\w\\s]','')\n",
    "yelp_df[\"NoPunctuation\"]\n",
    "\n",
    "stop = stopwords.words('english')\n",
    "stop_not = [\n",
    "    'us','Im', 'dont','also','Mr','I', 'They', 'My', \n",
    "    'This', 'Ive', 'really', 'The', 'It', 'Its', 'Their', 'We', 'go', \n",
    "    'would', 'place','get','time','one', 'got','even','always']\n",
    "stop.extend(stop_not)"
   ]
  },
  {
   "cell_type": "code",
   "execution_count": 10,
   "metadata": {},
   "outputs": [
    {
     "data": {
      "text/plain": [
       "0        Hoagie institution Walking seem like throwback...\n",
       "1        Excellent food Superb customer service miss ma...\n",
       "2        Yes little dated opened weekend But staff plea...\n",
       "3        All food great But best thing wings wings simp...\n",
       "5        Wing sauce like water Pretty much lot butter h...\n",
       "                               ...                        \n",
       "27284    outstanding worth finding Kendra great waitres...\n",
       "27285    Ok figured ordinary diner food best wrong fant...\n",
       "27286    Love food atmosphere eat days week staff excit...\n",
       "27288                          Horrible showers nice folks\n",
       "27289    Stopped way Fort Jackson great neighborhood ri...\n",
       "Name: review_without_stopwords, Length: 22910, dtype: object"
      ]
     },
     "execution_count": 10,
     "metadata": {},
     "output_type": "execute_result"
    }
   ],
   "source": [
    "## apply stopwords to data\n",
    "yelp_df['review_without_stopwords'] = yelp_df['NoPunctuation'].apply(\n",
    "    lambda x: ' '.join([word for word in x.split() if word not in (stop)]))\n",
    "\n",
    "yelp_df['review_without_stopwords']"
   ]
  },
  {
   "cell_type": "code",
   "execution_count": 11,
   "metadata": {},
   "outputs": [],
   "source": [
    "## tokenize the data\n",
    "yelp_df['review_tokenized'] = yelp_df['review_without_stopwords'].apply(word_tokenize)"
   ]
  },
  {
   "cell_type": "code",
   "execution_count": 12,
   "metadata": {},
   "outputs": [
    {
     "data": {
      "text/plain": [
       "food       11124\n",
       "good       11096\n",
       "great       8462\n",
       "like        8447\n",
       "service     6398\n",
       "back        6189\n",
       "nice        4280\n",
       "best        4037\n",
       "well        3834\n",
       "little      3634\n",
       "dtype: int64"
      ]
     },
     "execution_count": 12,
     "metadata": {},
     "output_type": "execute_result"
    }
   ],
   "source": [
    "## retrieve 10 most frequent words \n",
    "all_freq = yelp_df['review_tokenized'] \n",
    "freq_frame = all_freq.to_frame()\n",
    "\n",
    "full_list = [] \n",
    "for element in freq_frame['review_tokenized']:  \n",
    "    full_list += element \n",
    "    \n",
    "all_counts = pd.Series(full_list).value_counts() \n",
    "all_counts[:10]"
   ]
  },
  {
   "cell_type": "code",
   "execution_count": 13,
   "metadata": {},
   "outputs": [],
   "source": [
    "## vectorize & divert into training/test categories\n",
    "pd.crosstab(index = yelp_df['Positively_Rated'], columns=\"Total count\")\n",
    "X_train, X_test, y_train, y_test = train_test_split(yelp_df['text'], yelp_df['Positively_Rated'],test_size = .1, random_state=1)\n",
    "\n",
    "vect = CountVectorizer().fit(X_train)\n",
    "X_train_vectorized = vect.transform(X_train)"
   ]
  },
  {
   "cell_type": "code",
   "execution_count": 14,
   "metadata": {},
   "outputs": [],
   "source": [
    "## set up LogisticRegression & fit model\n",
    "model = LogisticRegression(solver='liblinear')\n",
    "model.fit(X_train_vectorized, y_train)\n",
    "\n",
    "prediction = model.predict(vect.transform(X_test))"
   ]
  },
  {
   "cell_type": "code",
   "execution_count": 15,
   "metadata": {},
   "outputs": [
    {
     "name": "stdout",
     "output_type": "stream",
     "text": [
      "AUC:  0.893865024561823\n"
     ]
    }
   ],
   "source": [
    "## set up roc_auc\n",
    "print('AUC: ', roc_auc_score(y_test, prediction))\n",
    "f_positive, t_positive, thresholds = roc_curve(y_test, prediction)\n",
    "\n",
    "roc_auc = auc(f_positive, t_positive)"
   ]
  },
  {
   "cell_type": "code",
   "execution_count": 16,
   "metadata": {},
   "outputs": [
    {
     "name": "stdout",
     "output_type": "stream",
     "text": [
      "0.9040688926752957\n"
     ]
    }
   ],
   "source": [
    "## fitted CountVectorizer to training data \n",
    "## doc freq of 5, extract 1 gram & 2 gram\n",
    "vect = CountVectorizer(min_df = 5, ngram_range = (1, 2)).fit(X_train)\n",
    "X_train_vectorized = vect.transform(X_train)\n",
    "\n",
    "model = LogisticRegression(max_iter = 10000)\n",
    "model.fit(X_train_vectorized, y_train)\n",
    "\n",
    "predictions = model.predict(vect.transform(X_test))\n",
    "f_positive, t_positive, thresholds = roc_curve(y_test, predictions)\n",
    "roc_auc = auc(f_positive, t_positive)\n",
    "print(roc_auc)"
   ]
  }
 ],
 "metadata": {
  "kernelspec": {
   "display_name": "Python 3",
   "language": "python",
   "name": "python3"
  },
  "language_info": {
   "codemirror_mode": {
    "name": "ipython",
    "version": 3
   },
   "file_extension": ".py",
   "mimetype": "text/x-python",
   "name": "python",
   "nbconvert_exporter": "python",
   "pygments_lexer": "ipython3",
   "version": "3.7.6"
  }
 },
 "nbformat": 4,
 "nbformat_minor": 4
}
