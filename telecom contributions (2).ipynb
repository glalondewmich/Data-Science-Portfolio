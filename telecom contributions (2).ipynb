{
 "cells": [
  {
   "cell_type": "markdown",
   "metadata": {},
   "source": [
    "## Telecom Political Contributions: Analysis\n",
    "----"
   ]
  },
  {
   "cell_type": "markdown",
   "metadata": {},
   "source": [
    "In this project, I analyse contributions made by Comcast, Verizon, and AT&T to 115th congress individuals and PACs from 1989 - 2017. I also attemp to predict association between contributions and congressperson voting behavior in regards to Net Neutrality. The companies donated indirectly through associated PACs and members. This data is available on OpenSecrets.org. "
   ]
  },
  {
   "cell_type": "code",
   "execution_count": 1,
   "metadata": {},
   "outputs": [],
   "source": [
    "## import packages\n",
    "import pandas as pd\n",
    "import numpy as np\n",
    "import matplotlib.pyplot as plt\n",
    "from matplotlib.ticker import StrMethodFormatter\n",
    "import pandas as pd\n",
    "from sklearn import metrics\n",
    "from sklearn.model_selection import train_test_split\n",
    "from sklearn.tree import DecisionTreeClassifier\n",
    "import seaborn as sns\n",
    "import matplotlib.pyplot as plt"
   ]
  },
  {
   "cell_type": "code",
   "execution_count": 2,
   "metadata": {},
   "outputs": [],
   "source": [
    "## dataset url = https://www.opensecrets.org/featured-datasets/8"
   ]
  },
  {
   "cell_type": "code",
   "execution_count": 3,
   "metadata": {},
   "outputs": [],
   "source": [
    "## initialize dataset\n",
    "t_df = pd.read_csv('telecom.csv')"
   ]
  },
  {
   "cell_type": "code",
   "execution_count": 4,
   "metadata": {},
   "outputs": [
    {
     "name": "stdout",
     "output_type": "stream",
     "text": [
      "<class 'pandas.core.frame.DataFrame'>\n",
      "RangeIndex: 535 entries, 0 to 534\n",
      "Data columns (total 13 columns):\n",
      " #   Column                               Non-Null Count  Dtype  \n",
      "---  ------                               --------------  -----  \n",
      " 0   Name                                 535 non-null    object \n",
      " 1   Chamber                              535 non-null    object \n",
      " 2   Party                                535 non-null    object \n",
      " 3   District                             535 non-null    object \n",
      " 4   Total                                535 non-null    object \n",
      " 5   Dems                                 535 non-null    object \n",
      " 6   Repubs                               535 non-null    object \n",
      " 7   Comcast Corp                         535 non-null    object \n",
      " 8   AT&T Inc                             535 non-null    object \n",
      " 9   Verizon Communications               535 non-null    object \n",
      " 10  March 2017 Vote on Internet Privacy  535 non-null    object \n",
      " 11  Unnamed: 11                          0 non-null      float64\n",
      " 12  Unnamed: 12                          5 non-null      object \n",
      "dtypes: float64(1), object(12)\n",
      "memory usage: 54.5+ KB\n"
     ]
    }
   ],
   "source": [
    "## dataset information\n",
    "t_df.info()"
   ]
  },
  {
   "cell_type": "code",
   "execution_count": 5,
   "metadata": {},
   "outputs": [
    {
     "data": {
      "text/html": [
       "<div>\n",
       "<style scoped>\n",
       "    .dataframe tbody tr th:only-of-type {\n",
       "        vertical-align: middle;\n",
       "    }\n",
       "\n",
       "    .dataframe tbody tr th {\n",
       "        vertical-align: top;\n",
       "    }\n",
       "\n",
       "    .dataframe thead th {\n",
       "        text-align: right;\n",
       "    }\n",
       "</style>\n",
       "<table border=\"1\" class=\"dataframe\">\n",
       "  <thead>\n",
       "    <tr style=\"text-align: right;\">\n",
       "      <th></th>\n",
       "      <th>Name</th>\n",
       "      <th>Chamber</th>\n",
       "      <th>Party</th>\n",
       "      <th>District</th>\n",
       "      <th>Total</th>\n",
       "      <th>Dems</th>\n",
       "      <th>Repubs</th>\n",
       "      <th>Comcast Corp</th>\n",
       "      <th>AT&amp;T Inc</th>\n",
       "      <th>Verizon Communications</th>\n",
       "      <th>March 2017 Vote on Internet Privacy</th>\n",
       "      <th>Unnamed: 11</th>\n",
       "      <th>Unnamed: 12</th>\n",
       "    </tr>\n",
       "  </thead>\n",
       "  <tbody>\n",
       "    <tr>\n",
       "      <th>0</th>\n",
       "      <td>McCain, John</td>\n",
       "      <td>Senate</td>\n",
       "      <td>R</td>\n",
       "      <td>AZS1</td>\n",
       "      <td>$794,881</td>\n",
       "      <td>$0</td>\n",
       "      <td>$794,881</td>\n",
       "      <td>$121,902</td>\n",
       "      <td>$477,088</td>\n",
       "      <td>$195,891</td>\n",
       "      <td>Yea</td>\n",
       "      <td>NaN</td>\n",
       "      <td>NaN</td>\n",
       "    </tr>\n",
       "    <tr>\n",
       "      <th>1</th>\n",
       "      <td>Hoyer, Steny H</td>\n",
       "      <td>House</td>\n",
       "      <td>D</td>\n",
       "      <td>MD05</td>\n",
       "      <td>$659,490</td>\n",
       "      <td>$659,490</td>\n",
       "      <td>$0</td>\n",
       "      <td>$222,100</td>\n",
       "      <td>$249,150</td>\n",
       "      <td>$188,240</td>\n",
       "      <td>Nay</td>\n",
       "      <td>NaN</td>\n",
       "      <td>This table lists contributions from Comcast Co...</td>\n",
       "    </tr>\n",
       "    <tr>\n",
       "      <th>2</th>\n",
       "      <td>Upton, Fred</td>\n",
       "      <td>House</td>\n",
       "      <td>R</td>\n",
       "      <td>MI06</td>\n",
       "      <td>$631,000</td>\n",
       "      <td>$0</td>\n",
       "      <td>$631,000</td>\n",
       "      <td>$222,200</td>\n",
       "      <td>$228,600</td>\n",
       "      <td>$180,200</td>\n",
       "      <td>Yea</td>\n",
       "      <td>NaN</td>\n",
       "      <td>NaN</td>\n",
       "    </tr>\n",
       "    <tr>\n",
       "      <th>3</th>\n",
       "      <td>Blunt, Roy</td>\n",
       "      <td>Senate</td>\n",
       "      <td>R</td>\n",
       "      <td>MOS1</td>\n",
       "      <td>$503,133</td>\n",
       "      <td>$0</td>\n",
       "      <td>$503,133</td>\n",
       "      <td>$152,100</td>\n",
       "      <td>$192,675</td>\n",
       "      <td>$158,358</td>\n",
       "      <td>Yea</td>\n",
       "      <td>NaN</td>\n",
       "      <td>NaN</td>\n",
       "    </tr>\n",
       "    <tr>\n",
       "      <th>4</th>\n",
       "      <td>Barton, Joe</td>\n",
       "      <td>House</td>\n",
       "      <td>R</td>\n",
       "      <td>TX06</td>\n",
       "      <td>$495,309</td>\n",
       "      <td>$0</td>\n",
       "      <td>$495,309</td>\n",
       "      <td>$131,000</td>\n",
       "      <td>$233,509</td>\n",
       "      <td>$130,800</td>\n",
       "      <td>Yea</td>\n",
       "      <td>NaN</td>\n",
       "      <td>NaN</td>\n",
       "    </tr>\n",
       "  </tbody>\n",
       "</table>\n",
       "</div>"
      ],
      "text/plain": [
       "             Name Chamber Party District     Total      Dems    Repubs  \\\n",
       "0    McCain, John  Senate     R     AZS1  $794,881        $0  $794,881   \n",
       "1  Hoyer, Steny H   House     D     MD05  $659,490  $659,490        $0   \n",
       "2     Upton, Fred   House     R     MI06  $631,000        $0  $631,000   \n",
       "3      Blunt, Roy  Senate     R     MOS1  $503,133        $0  $503,133   \n",
       "4     Barton, Joe   House     R     TX06  $495,309        $0  $495,309   \n",
       "\n",
       "  Comcast Corp  AT&T Inc Verizon Communications  \\\n",
       "0     $121,902  $477,088               $195,891   \n",
       "1     $222,100  $249,150               $188,240   \n",
       "2     $222,200  $228,600               $180,200   \n",
       "3     $152,100  $192,675               $158,358   \n",
       "4     $131,000  $233,509               $130,800   \n",
       "\n",
       "  March 2017 Vote on Internet Privacy  Unnamed: 11  \\\n",
       "0                                 Yea          NaN   \n",
       "1                                 Nay          NaN   \n",
       "2                                 Yea          NaN   \n",
       "3                                 Yea          NaN   \n",
       "4                                 Yea          NaN   \n",
       "\n",
       "                                         Unnamed: 12  \n",
       "0                                                NaN  \n",
       "1  This table lists contributions from Comcast Co...  \n",
       "2                                                NaN  \n",
       "3                                                NaN  \n",
       "4                                                NaN  "
      ]
     },
     "execution_count": 5,
     "metadata": {},
     "output_type": "execute_result"
    }
   ],
   "source": [
    "## first 5 rows of the dataset\n",
    "t_df.head()"
   ]
  },
  {
   "cell_type": "code",
   "execution_count": 6,
   "metadata": {},
   "outputs": [],
   "source": [
    "## drop unnecessary columns\n",
    "t_df = t_df.drop(['Unnamed: 11'], axis = 1)\n",
    "t_df = t_df.drop(['Unnamed: 12'], axis = 1)"
   ]
  },
  {
   "cell_type": "code",
   "execution_count": 7,
   "metadata": {},
   "outputs": [
    {
     "data": {
      "text/html": [
       "<div>\n",
       "<style scoped>\n",
       "    .dataframe tbody tr th:only-of-type {\n",
       "        vertical-align: middle;\n",
       "    }\n",
       "\n",
       "    .dataframe tbody tr th {\n",
       "        vertical-align: top;\n",
       "    }\n",
       "\n",
       "    .dataframe thead th {\n",
       "        text-align: right;\n",
       "    }\n",
       "</style>\n",
       "<table border=\"1\" class=\"dataframe\">\n",
       "  <thead>\n",
       "    <tr style=\"text-align: right;\">\n",
       "      <th></th>\n",
       "      <th>Name</th>\n",
       "      <th>Chamber</th>\n",
       "      <th>Party</th>\n",
       "      <th>District</th>\n",
       "      <th>Total</th>\n",
       "      <th>Dems</th>\n",
       "      <th>Repubs</th>\n",
       "      <th>Comcast Corp</th>\n",
       "      <th>AT&amp;T Inc</th>\n",
       "      <th>Verizon Communications</th>\n",
       "      <th>March 2017 Vote on Internet Privacy</th>\n",
       "    </tr>\n",
       "  </thead>\n",
       "  <tbody>\n",
       "    <tr>\n",
       "      <th>0</th>\n",
       "      <td>McCain, John</td>\n",
       "      <td>Senate</td>\n",
       "      <td>R</td>\n",
       "      <td>AZS1</td>\n",
       "      <td>$794,881</td>\n",
       "      <td>$0</td>\n",
       "      <td>$794,881</td>\n",
       "      <td>$121,902</td>\n",
       "      <td>$477,088</td>\n",
       "      <td>$195,891</td>\n",
       "      <td>Yea</td>\n",
       "    </tr>\n",
       "    <tr>\n",
       "      <th>1</th>\n",
       "      <td>Hoyer, Steny H</td>\n",
       "      <td>House</td>\n",
       "      <td>D</td>\n",
       "      <td>MD05</td>\n",
       "      <td>$659,490</td>\n",
       "      <td>$659,490</td>\n",
       "      <td>$0</td>\n",
       "      <td>$222,100</td>\n",
       "      <td>$249,150</td>\n",
       "      <td>$188,240</td>\n",
       "      <td>Nay</td>\n",
       "    </tr>\n",
       "    <tr>\n",
       "      <th>2</th>\n",
       "      <td>Upton, Fred</td>\n",
       "      <td>House</td>\n",
       "      <td>R</td>\n",
       "      <td>MI06</td>\n",
       "      <td>$631,000</td>\n",
       "      <td>$0</td>\n",
       "      <td>$631,000</td>\n",
       "      <td>$222,200</td>\n",
       "      <td>$228,600</td>\n",
       "      <td>$180,200</td>\n",
       "      <td>Yea</td>\n",
       "    </tr>\n",
       "    <tr>\n",
       "      <th>3</th>\n",
       "      <td>Blunt, Roy</td>\n",
       "      <td>Senate</td>\n",
       "      <td>R</td>\n",
       "      <td>MOS1</td>\n",
       "      <td>$503,133</td>\n",
       "      <td>$0</td>\n",
       "      <td>$503,133</td>\n",
       "      <td>$152,100</td>\n",
       "      <td>$192,675</td>\n",
       "      <td>$158,358</td>\n",
       "      <td>Yea</td>\n",
       "    </tr>\n",
       "    <tr>\n",
       "      <th>4</th>\n",
       "      <td>Barton, Joe</td>\n",
       "      <td>House</td>\n",
       "      <td>R</td>\n",
       "      <td>TX06</td>\n",
       "      <td>$495,309</td>\n",
       "      <td>$0</td>\n",
       "      <td>$495,309</td>\n",
       "      <td>$131,000</td>\n",
       "      <td>$233,509</td>\n",
       "      <td>$130,800</td>\n",
       "      <td>Yea</td>\n",
       "    </tr>\n",
       "    <tr>\n",
       "      <th>...</th>\n",
       "      <td>...</td>\n",
       "      <td>...</td>\n",
       "      <td>...</td>\n",
       "      <td>...</td>\n",
       "      <td>...</td>\n",
       "      <td>...</td>\n",
       "      <td>...</td>\n",
       "      <td>...</td>\n",
       "      <td>...</td>\n",
       "      <td>...</td>\n",
       "      <td>...</td>\n",
       "    </tr>\n",
       "    <tr>\n",
       "      <th>530</th>\n",
       "      <td>Jayapal, Pramila</td>\n",
       "      <td>House</td>\n",
       "      <td>D</td>\n",
       "      <td>WA07</td>\n",
       "      <td>$1,000</td>\n",
       "      <td>$1,000</td>\n",
       "      <td>$0</td>\n",
       "      <td>$0</td>\n",
       "      <td>$750</td>\n",
       "      <td>$250</td>\n",
       "      <td>Nay</td>\n",
       "    </tr>\n",
       "    <tr>\n",
       "      <th>531</th>\n",
       "      <td>Shea-Porter, Carol</td>\n",
       "      <td>House</td>\n",
       "      <td>D</td>\n",
       "      <td>NH01</td>\n",
       "      <td>$99</td>\n",
       "      <td>$99</td>\n",
       "      <td>$0</td>\n",
       "      <td>$82</td>\n",
       "      <td>$12</td>\n",
       "      <td>$5</td>\n",
       "      <td>Nay</td>\n",
       "    </tr>\n",
       "    <tr>\n",
       "      <th>532</th>\n",
       "      <td>Davidson, Warren</td>\n",
       "      <td>House</td>\n",
       "      <td>R</td>\n",
       "      <td>OH08</td>\n",
       "      <td>$0</td>\n",
       "      <td>$0</td>\n",
       "      <td>$0</td>\n",
       "      <td>$0</td>\n",
       "      <td>$0</td>\n",
       "      <td>$0</td>\n",
       "      <td>Nay</td>\n",
       "    </tr>\n",
       "    <tr>\n",
       "      <th>533</th>\n",
       "      <td>Gianforte, Greg</td>\n",
       "      <td>House</td>\n",
       "      <td>R</td>\n",
       "      <td>MT01</td>\n",
       "      <td>$0</td>\n",
       "      <td>$0</td>\n",
       "      <td>$0</td>\n",
       "      <td>$0</td>\n",
       "      <td>$0</td>\n",
       "      <td>$0</td>\n",
       "      <td>Not Voting</td>\n",
       "    </tr>\n",
       "    <tr>\n",
       "      <th>534</th>\n",
       "      <td>Sarbanes, John</td>\n",
       "      <td>House</td>\n",
       "      <td>D</td>\n",
       "      <td>MD03</td>\n",
       "      <td>$0</td>\n",
       "      <td>$0</td>\n",
       "      <td>$0</td>\n",
       "      <td>$0</td>\n",
       "      <td>$0</td>\n",
       "      <td>$0</td>\n",
       "      <td>Nay</td>\n",
       "    </tr>\n",
       "  </tbody>\n",
       "</table>\n",
       "<p>535 rows × 11 columns</p>\n",
       "</div>"
      ],
      "text/plain": [
       "                   Name Chamber Party District     Total      Dems    Repubs  \\\n",
       "0          McCain, John  Senate     R     AZS1  $794,881        $0  $794,881   \n",
       "1        Hoyer, Steny H   House     D     MD05  $659,490  $659,490        $0   \n",
       "2           Upton, Fred   House     R     MI06  $631,000        $0  $631,000   \n",
       "3            Blunt, Roy  Senate     R     MOS1  $503,133        $0  $503,133   \n",
       "4           Barton, Joe   House     R     TX06  $495,309        $0  $495,309   \n",
       "..                  ...     ...   ...      ...       ...       ...       ...   \n",
       "530    Jayapal, Pramila   House     D     WA07    $1,000    $1,000        $0   \n",
       "531  Shea-Porter, Carol   House     D     NH01       $99       $99        $0   \n",
       "532    Davidson, Warren   House     R     OH08        $0        $0        $0   \n",
       "533     Gianforte, Greg   House     R     MT01        $0        $0        $0   \n",
       "534      Sarbanes, John   House     D     MD03        $0        $0        $0   \n",
       "\n",
       "    Comcast Corp  AT&T Inc Verizon Communications  \\\n",
       "0       $121,902  $477,088               $195,891   \n",
       "1       $222,100  $249,150               $188,240   \n",
       "2       $222,200  $228,600               $180,200   \n",
       "3       $152,100  $192,675               $158,358   \n",
       "4       $131,000  $233,509               $130,800   \n",
       "..           ...       ...                    ...   \n",
       "530           $0      $750                   $250   \n",
       "531          $82       $12                     $5   \n",
       "532           $0        $0                     $0   \n",
       "533           $0        $0                     $0   \n",
       "534           $0        $0                     $0   \n",
       "\n",
       "    March 2017 Vote on Internet Privacy  \n",
       "0                                   Yea  \n",
       "1                                   Nay  \n",
       "2                                   Yea  \n",
       "3                                   Yea  \n",
       "4                                   Yea  \n",
       "..                                  ...  \n",
       "530                                 Nay  \n",
       "531                                 Nay  \n",
       "532                                 Nay  \n",
       "533                          Not Voting  \n",
       "534                                 Nay  \n",
       "\n",
       "[535 rows x 11 columns]"
      ]
     },
     "execution_count": 7,
     "metadata": {},
     "output_type": "execute_result"
    }
   ],
   "source": [
    "t_df"
   ]
  },
  {
   "cell_type": "code",
   "execution_count": 8,
   "metadata": {},
   "outputs": [
    {
     "name": "stdout",
     "output_type": "stream",
     "text": [
      "missing values: False\n"
     ]
    }
   ],
   "source": [
    "## check for missing values\n",
    "print(\"missing values:\", t_df.isnull().values.any())"
   ]
  },
  {
   "cell_type": "code",
   "execution_count": 9,
   "metadata": {},
   "outputs": [],
   "source": [
    "## data cleaning\n",
    "t_df['Name'] = (t_df.Name.str.split()\n",
    "              .apply(lambda x: ', '.join(x[::-1]).rstrip(','))\n",
    "              .where(t_df['Name'].str.contains(','), t_df['Name'])\n",
    "              .str.replace(',','') )"
   ]
  },
  {
   "cell_type": "code",
   "execution_count": 10,
   "metadata": {},
   "outputs": [],
   "source": [
    "## data cleaning\n",
    "t_df['Total'] = t_df['Total'].str.replace(',', '')\n",
    "t_df['Total'] = t_df['Total'].str.replace('$', '')\n",
    "\n",
    "t_df['Total'] = t_df['Total'].astype(int)"
   ]
  },
  {
   "cell_type": "code",
   "execution_count": 11,
   "metadata": {},
   "outputs": [],
   "source": [
    "## data cleaning\n",
    "t_df['Dems'] = t_df['Dems'].str.replace(',', '')\n",
    "t_df['Dems'] = t_df['Dems'].str.replace('$', '')\n",
    "\n",
    "t_df['Dems'] = t_df['Dems'].astype(int)"
   ]
  },
  {
   "cell_type": "code",
   "execution_count": 12,
   "metadata": {},
   "outputs": [],
   "source": [
    "## data cleaning\n",
    "t_df['Repubs'] = t_df['Repubs'].str.replace(',', '')\n",
    "t_df['Repubs'] = t_df['Repubs'].str.replace('$', '')\n",
    "\n",
    "t_df['Repubs'] = t_df['Repubs'].astype(int)"
   ]
  },
  {
   "cell_type": "code",
   "execution_count": 13,
   "metadata": {},
   "outputs": [],
   "source": [
    "## data cleaning\n",
    "t_df['Comcast Corp'] = t_df['Comcast Corp'].str.replace(',', '')\n",
    "t_df['Comcast Corp'] = t_df['Comcast Corp'].str.replace('$', '')\n",
    "\n",
    "t_df['Comcast Corp'] = t_df['Comcast Corp'].astype(int)"
   ]
  },
  {
   "cell_type": "code",
   "execution_count": 14,
   "metadata": {},
   "outputs": [],
   "source": [
    "## data cleaning\n",
    "t_df['AT&T Inc'] = t_df['AT&T Inc'].str.replace(',', '')\n",
    "t_df['AT&T Inc'] = t_df['AT&T Inc'].str.replace('$', '')\n",
    "\n",
    "t_df['AT&T Inc'] = t_df['AT&T Inc'].astype(int)"
   ]
  },
  {
   "cell_type": "code",
   "execution_count": 15,
   "metadata": {},
   "outputs": [],
   "source": [
    "## data cleaning\n",
    "t_df['Verizon Communications'] = t_df['Verizon Communications'].str.replace(',', '')\n",
    "t_df['Verizon Communications'] = t_df['Verizon Communications'].str.replace('$', '')\n",
    "\n",
    "t_df['Verizon Communications'] = t_df['Verizon Communications'].astype(int)"
   ]
  },
  {
   "cell_type": "code",
   "execution_count": 16,
   "metadata": {},
   "outputs": [
    {
     "name": "stdout",
     "output_type": "stream",
     "text": [
      "count       535.000000\n",
      "mean      85937.456075\n",
      "std       97965.453242\n",
      "min           0.000000\n",
      "25%       23750.000000\n",
      "50%       52500.000000\n",
      "75%      113300.000000\n",
      "max      794881.000000\n",
      "Name: Total, dtype: float64\n"
     ]
    }
   ],
   "source": [
    "## basic descriptive statistics\n",
    "t_desc = t_df['Total'].describe()\n",
    "c_desc = t_df['Comcast Corp'].describe()\n",
    "a_desc = t_df['AT&T Inc'].describe()\n",
    "v_desc = t_df['Verizon Communications'].describe() \n",
    "\n",
    "print(t_desc)"
   ]
  },
  {
   "cell_type": "code",
   "execution_count": 17,
   "metadata": {},
   "outputs": [
    {
     "name": "stdout",
     "output_type": "stream",
     "text": [
      "count       535.000000\n",
      "mean      27849.663551\n",
      "std       35321.868029\n",
      "min           0.000000\n",
      "25%        6375.000000\n",
      "50%       15000.000000\n",
      "75%       33750.000000\n",
      "max      222200.000000\n",
      "Name: Comcast Corp, dtype: float64\n"
     ]
    }
   ],
   "source": [
    "print(c_desc)"
   ]
  },
  {
   "cell_type": "code",
   "execution_count": 18,
   "metadata": {},
   "outputs": [
    {
     "name": "stdout",
     "output_type": "stream",
     "text": [
      "count       535.000000\n",
      "mean      37076.671028\n",
      "std       44727.283309\n",
      "min           0.000000\n",
      "25%        8900.000000\n",
      "50%       22302.000000\n",
      "75%       50103.000000\n",
      "max      477088.000000\n",
      "Name: AT&T Inc, dtype: float64\n"
     ]
    }
   ],
   "source": [
    "print(a_desc)"
   ]
  },
  {
   "cell_type": "code",
   "execution_count": 19,
   "metadata": {},
   "outputs": [
    {
     "name": "stdout",
     "output_type": "stream",
     "text": [
      "count       535.000000\n",
      "mean      21011.121495\n",
      "std       30194.091394\n",
      "min           0.000000\n",
      "25%        3500.000000\n",
      "50%       11000.000000\n",
      "75%       25500.000000\n",
      "max      216727.000000\n",
      "Name: Verizon Communications, dtype: float64\n"
     ]
    }
   ],
   "source": [
    "print(v_desc)"
   ]
  },
  {
   "cell_type": "markdown",
   "metadata": {},
   "source": [
    "Included above are descriptive statistics of 518 contributions."
   ]
  },
  {
   "cell_type": "code",
   "execution_count": 20,
   "metadata": {},
   "outputs": [
    {
     "data": {
      "text/plain": [
       "Text(0.5, 1.0, 'Top 10 Recipients')"
      ]
     },
     "execution_count": 20,
     "metadata": {},
     "output_type": "execute_result"
    },
    {
     "data": {
      "image/png": "[encoded data removed]",
      "text/plain": [
       "<Figure size 936x504 with 1 Axes>"
      ]
     },
     "metadata": {
      "needs_background": "light"
     },
     "output_type": "display_data"
    }
   ],
   "source": [
    "## visualize ten largest recipients\n",
    "sums = t_df.groupby('Name')['Total'].sum().nlargest(10)\n",
    "ax = sums.plot(kind='barh', figsize=(13, 7), color='green', zorder=1, width=0.85)\n",
    "\n",
    "ax.spines['right'].set_visible(True)\n",
    "ax.spines['top'].set_visible(True)\n",
    "ax.spines['left'].set_visible(True)\n",
    "ax.spines['bottom'].set_visible(True)\n",
    "\n",
    "ax.tick_params(axis=\"both\", which=\"both\", bottom=\"off\", top=\"off\", labelbottom=\"on\", left=\"off\", right=\"off\", labelleft=\"on\")\n",
    "\n",
    "vals = ax.get_xticks()\n",
    "for tick in vals:\n",
    "    ax.axvline(x=tick, linestyle='none', alpha=0.3, color='#eeeeee', zorder=1)\n",
    "\n",
    "ax.set_xlabel(\"Total ($)\", labelpad=20, weight='bold', size=12)\n",
    "\n",
    "ax.set_ylabel(\"Congressperson\", labelpad=20, weight='bold', size=12)\n",
    "\n",
    "ax.xaxis.set_major_formatter(StrMethodFormatter('{x:,g}'))\n",
    "\n",
    "def nice_axes(ax):\n",
    "    ax.set_facecolor('.9')\n",
    "    ax.tick_params(labelsize=9, length=0)\n",
    "    ax.grid(True, axis='x', color='white')\n",
    "    ax.set_axisbelow(True)\n",
    "    [spine.set_visible(False) for spine in ax.spines.values()]\n",
    "    \n",
    "nice_axes(ax)\n",
    "\n",
    "plt.title(\"Top 10 Recipients\", weight='bold', size=20)"
   ]
  },
  {
   "cell_type": "code",
   "execution_count": 29,
   "metadata": {},
   "outputs": [],
   "source": [
    "## sort yea votes = 1 & nay = 0, remove non votes\n",
    "t_df = t_df[t_df['March 2017 Vote on Internet Privacy']!= 'Not Voting']\n",
    "t_df['March 2017 Vote on Internet Privacy']\n",
    "\n",
    "t_df['Votes'] = np.where(t_df['March 2017 Vote on Internet Privacy'] == 'Yea', 1, 0)\n",
    "\n",
    "t_df['Parties'] = np.where(t_df['Party'] == 'R', 1, 0)\n",
    "\n",
    "t_df['Votes'] = t_df['Votes'].astype(int)\n",
    "\n",
    "t_df['Parties'] = t_df['Parties'].astype(int)"
   ]
  },
  {
   "cell_type": "code",
   "execution_count": 22,
   "metadata": {},
   "outputs": [
    {
     "data": {
      "text/html": [
       "<div>\n",
       "<style scoped>\n",
       "    .dataframe tbody tr th:only-of-type {\n",
       "        vertical-align: middle;\n",
       "    }\n",
       "\n",
       "    .dataframe tbody tr th {\n",
       "        vertical-align: top;\n",
       "    }\n",
       "\n",
       "    .dataframe thead th {\n",
       "        text-align: right;\n",
       "    }\n",
       "</style>\n",
       "<table border=\"1\" class=\"dataframe\">\n",
       "  <thead>\n",
       "    <tr style=\"text-align: right;\">\n",
       "      <th></th>\n",
       "      <th>index</th>\n",
       "      <th>Name</th>\n",
       "      <th>Chamber</th>\n",
       "      <th>Party</th>\n",
       "      <th>District</th>\n",
       "      <th>Total</th>\n",
       "      <th>Dems</th>\n",
       "      <th>Repubs</th>\n",
       "      <th>Comcast Corp</th>\n",
       "      <th>AT&amp;T Inc</th>\n",
       "      <th>Verizon Communications</th>\n",
       "      <th>March 2017 Vote on Internet Privacy</th>\n",
       "      <th>Votes</th>\n",
       "      <th>Parties</th>\n",
       "    </tr>\n",
       "  </thead>\n",
       "  <tbody>\n",
       "    <tr>\n",
       "      <th>0</th>\n",
       "      <td>0</td>\n",
       "      <td>John McCain</td>\n",
       "      <td>Senate</td>\n",
       "      <td>R</td>\n",
       "      <td>AZS1</td>\n",
       "      <td>794881</td>\n",
       "      <td>0</td>\n",
       "      <td>794881</td>\n",
       "      <td>121902</td>\n",
       "      <td>477088</td>\n",
       "      <td>195891</td>\n",
       "      <td>Yea</td>\n",
       "      <td>1</td>\n",
       "      <td>1</td>\n",
       "    </tr>\n",
       "    <tr>\n",
       "      <th>1</th>\n",
       "      <td>1</td>\n",
       "      <td>H Steny Hoyer</td>\n",
       "      <td>House</td>\n",
       "      <td>D</td>\n",
       "      <td>MD05</td>\n",
       "      <td>659490</td>\n",
       "      <td>659490</td>\n",
       "      <td>0</td>\n",
       "      <td>222100</td>\n",
       "      <td>249150</td>\n",
       "      <td>188240</td>\n",
       "      <td>Nay</td>\n",
       "      <td>0</td>\n",
       "      <td>0</td>\n",
       "    </tr>\n",
       "    <tr>\n",
       "      <th>2</th>\n",
       "      <td>2</td>\n",
       "      <td>Fred Upton</td>\n",
       "      <td>House</td>\n",
       "      <td>R</td>\n",
       "      <td>MI06</td>\n",
       "      <td>631000</td>\n",
       "      <td>0</td>\n",
       "      <td>631000</td>\n",
       "      <td>222200</td>\n",
       "      <td>228600</td>\n",
       "      <td>180200</td>\n",
       "      <td>Yea</td>\n",
       "      <td>1</td>\n",
       "      <td>1</td>\n",
       "    </tr>\n",
       "    <tr>\n",
       "      <th>3</th>\n",
       "      <td>3</td>\n",
       "      <td>Roy Blunt</td>\n",
       "      <td>Senate</td>\n",
       "      <td>R</td>\n",
       "      <td>MOS1</td>\n",
       "      <td>503133</td>\n",
       "      <td>0</td>\n",
       "      <td>503133</td>\n",
       "      <td>152100</td>\n",
       "      <td>192675</td>\n",
       "      <td>158358</td>\n",
       "      <td>Yea</td>\n",
       "      <td>1</td>\n",
       "      <td>1</td>\n",
       "    </tr>\n",
       "    <tr>\n",
       "      <th>4</th>\n",
       "      <td>4</td>\n",
       "      <td>Joe Barton</td>\n",
       "      <td>House</td>\n",
       "      <td>R</td>\n",
       "      <td>TX06</td>\n",
       "      <td>495309</td>\n",
       "      <td>0</td>\n",
       "      <td>495309</td>\n",
       "      <td>131000</td>\n",
       "      <td>233509</td>\n",
       "      <td>130800</td>\n",
       "      <td>Yea</td>\n",
       "      <td>1</td>\n",
       "      <td>1</td>\n",
       "    </tr>\n",
       "    <tr>\n",
       "      <th>...</th>\n",
       "      <td>...</td>\n",
       "      <td>...</td>\n",
       "      <td>...</td>\n",
       "      <td>...</td>\n",
       "      <td>...</td>\n",
       "      <td>...</td>\n",
       "      <td>...</td>\n",
       "      <td>...</td>\n",
       "      <td>...</td>\n",
       "      <td>...</td>\n",
       "      <td>...</td>\n",
       "      <td>...</td>\n",
       "      <td>...</td>\n",
       "      <td>...</td>\n",
       "    </tr>\n",
       "    <tr>\n",
       "      <th>513</th>\n",
       "      <td>529</td>\n",
       "      <td>Chellie Pingree</td>\n",
       "      <td>House</td>\n",
       "      <td>D</td>\n",
       "      <td>ME01</td>\n",
       "      <td>1250</td>\n",
       "      <td>1250</td>\n",
       "      <td>0</td>\n",
       "      <td>250</td>\n",
       "      <td>1000</td>\n",
       "      <td>0</td>\n",
       "      <td>Nay</td>\n",
       "      <td>0</td>\n",
       "      <td>0</td>\n",
       "    </tr>\n",
       "    <tr>\n",
       "      <th>514</th>\n",
       "      <td>530</td>\n",
       "      <td>Pramila Jayapal</td>\n",
       "      <td>House</td>\n",
       "      <td>D</td>\n",
       "      <td>WA07</td>\n",
       "      <td>1000</td>\n",
       "      <td>1000</td>\n",
       "      <td>0</td>\n",
       "      <td>0</td>\n",
       "      <td>750</td>\n",
       "      <td>250</td>\n",
       "      <td>Nay</td>\n",
       "      <td>0</td>\n",
       "      <td>0</td>\n",
       "    </tr>\n",
       "    <tr>\n",
       "      <th>515</th>\n",
       "      <td>531</td>\n",
       "      <td>Carol Shea-Porter</td>\n",
       "      <td>House</td>\n",
       "      <td>D</td>\n",
       "      <td>NH01</td>\n",
       "      <td>99</td>\n",
       "      <td>99</td>\n",
       "      <td>0</td>\n",
       "      <td>82</td>\n",
       "      <td>12</td>\n",
       "      <td>5</td>\n",
       "      <td>Nay</td>\n",
       "      <td>0</td>\n",
       "      <td>0</td>\n",
       "    </tr>\n",
       "    <tr>\n",
       "      <th>516</th>\n",
       "      <td>532</td>\n",
       "      <td>Warren Davidson</td>\n",
       "      <td>House</td>\n",
       "      <td>R</td>\n",
       "      <td>OH08</td>\n",
       "      <td>0</td>\n",
       "      <td>0</td>\n",
       "      <td>0</td>\n",
       "      <td>0</td>\n",
       "      <td>0</td>\n",
       "      <td>0</td>\n",
       "      <td>Nay</td>\n",
       "      <td>0</td>\n",
       "      <td>1</td>\n",
       "    </tr>\n",
       "    <tr>\n",
       "      <th>517</th>\n",
       "      <td>534</td>\n",
       "      <td>John Sarbanes</td>\n",
       "      <td>House</td>\n",
       "      <td>D</td>\n",
       "      <td>MD03</td>\n",
       "      <td>0</td>\n",
       "      <td>0</td>\n",
       "      <td>0</td>\n",
       "      <td>0</td>\n",
       "      <td>0</td>\n",
       "      <td>0</td>\n",
       "      <td>Nay</td>\n",
       "      <td>0</td>\n",
       "      <td>0</td>\n",
       "    </tr>\n",
       "  </tbody>\n",
       "</table>\n",
       "<p>518 rows × 14 columns</p>\n",
       "</div>"
      ],
      "text/plain": [
       "     index               Name Chamber Party District   Total    Dems  Repubs  \\\n",
       "0        0        John McCain  Senate     R     AZS1  794881       0  794881   \n",
       "1        1      H Steny Hoyer   House     D     MD05  659490  659490       0   \n",
       "2        2         Fred Upton   House     R     MI06  631000       0  631000   \n",
       "3        3          Roy Blunt  Senate     R     MOS1  503133       0  503133   \n",
       "4        4         Joe Barton   House     R     TX06  495309       0  495309   \n",
       "..     ...                ...     ...   ...      ...     ...     ...     ...   \n",
       "513    529    Chellie Pingree   House     D     ME01    1250    1250       0   \n",
       "514    530    Pramila Jayapal   House     D     WA07    1000    1000       0   \n",
       "515    531  Carol Shea-Porter   House     D     NH01      99      99       0   \n",
       "516    532    Warren Davidson   House     R     OH08       0       0       0   \n",
       "517    534      John Sarbanes   House     D     MD03       0       0       0   \n",
       "\n",
       "     Comcast Corp  AT&T Inc  Verizon Communications  \\\n",
       "0          121902    477088                  195891   \n",
       "1          222100    249150                  188240   \n",
       "2          222200    228600                  180200   \n",
       "3          152100    192675                  158358   \n",
       "4          131000    233509                  130800   \n",
       "..            ...       ...                     ...   \n",
       "513           250      1000                       0   \n",
       "514             0       750                     250   \n",
       "515            82        12                       5   \n",
       "516             0         0                       0   \n",
       "517             0         0                       0   \n",
       "\n",
       "    March 2017 Vote on Internet Privacy  Votes  Parties  \n",
       "0                                   Yea      1        1  \n",
       "1                                   Nay      0        0  \n",
       "2                                   Yea      1        1  \n",
       "3                                   Yea      1        1  \n",
       "4                                   Yea      1        1  \n",
       "..                                  ...    ...      ...  \n",
       "513                                 Nay      0        0  \n",
       "514                                 Nay      0        0  \n",
       "515                                 Nay      0        0  \n",
       "516                                 Nay      0        1  \n",
       "517                                 Nay      0        0  \n",
       "\n",
       "[518 rows x 14 columns]"
      ]
     },
     "execution_count": 22,
     "metadata": {},
     "output_type": "execute_result"
    }
   ],
   "source": [
    "t_df.reset_index()"
   ]
  },
  {
   "cell_type": "code",
   "execution_count": 23,
   "metadata": {},
   "outputs": [],
   "source": [
    "## split into train and test sets\n",
    "x = t_df.iloc[:, 4:5].values\n",
    "y = t_df.iloc[:, 11:12].values\n",
    "\n",
    "x_train, x_test, y_train, y_test = train_test_split(x, y, test_size = 0.20)"
   ]
  },
  {
   "cell_type": "code",
   "execution_count": 24,
   "metadata": {},
   "outputs": [
    {
     "name": "stdout",
     "output_type": "stream",
     "text": [
      "\n",
      "The DecisionTreeClassifier accuracy score is 44.230769230769226\n"
     ]
    }
   ],
   "source": [
    "## retreive the accuracy score using DecisionTreeClassifier \n",
    "classifier = DecisionTreeClassifier(max_depth = 20)\n",
    "classifier = classifier.fit(x_train, y_train)\n",
    "predicted_value = classifier.predict(x_test)\n",
    "decision_tree = metrics.accuracy_score(y_test, predicted_value) * 100\n",
    "print(\"\\nThe DecisionTreeClassifier accuracy score is {}\".format(decision_tree))"
   ]
  },
  {
   "cell_type": "markdown",
   "metadata": {},
   "source": [
    "There does not seem to be any prediction ability between total contribution recieved and voting behavior. "
   ]
  },
  {
   "cell_type": "code",
   "execution_count": 25,
   "metadata": {},
   "outputs": [],
   "source": [
    "## split into train and test sets\n",
    "x_1 = t_df.iloc[:, 12:13].values\n",
    "y_1 = t_df.iloc[:, 11:12].values\n",
    "\n",
    "x_train_1, x_test_1, y_train_1, y_test_1 = train_test_split(x_1, y_1, test_size = 0.2)"
   ]
  },
  {
   "cell_type": "code",
   "execution_count": 26,
   "metadata": {},
   "outputs": [
    {
     "name": "stdout",
     "output_type": "stream",
     "text": [
      "\n",
      "The DecisionTreeClassifier accuracy score is 98.07692307692307\n"
     ]
    }
   ],
   "source": [
    "## retreive the accuracy score using DecisionTreeClassifier \n",
    "classifier = DecisionTreeClassifier(max_depth = 2)\n",
    "classifier = classifier.fit(x_train_1, y_train_1)\n",
    "predicted_value_1 = classifier.predict(x_test_1)\n",
    "decision_tree_1 = metrics.accuracy_score(y_test_1, predicted_value_1) * 100\n",
    "print(\"\\nThe DecisionTreeClassifier accuracy score is {}\".format(decision_tree_1))"
   ]
  },
  {
   "cell_type": "markdown",
   "metadata": {},
   "source": [
    "There is prediction ability between party affiliation and vote decision."
   ]
  },
  {
   "cell_type": "code",
   "execution_count": 27,
   "metadata": {},
   "outputs": [
    {
     "name": "stdout",
     "output_type": "stream",
     "text": [
      "\n",
      "The correlation coefficient for republicans to vote yes was 0.9244300374896335\n",
      "\n",
      "The correlation coefficient for democrats to vote yes was -0.9171372360590141\n"
     ]
    }
   ],
   "source": [
    "## retrieve correlation coefficients\n",
    "one_r = t_df['Votes'] == 1\n",
    "two_r = t_df['Party'] == 'R'\n",
    "\n",
    "one_d = t_df['Votes'] == 1\n",
    "two_d = t_df['Party'] == 'D'\n",
    "\n",
    "\n",
    "dd_correlation = one_d.corr(two_d)\n",
    "rr_correlation = one_r.corr(two_r)\n",
    "print(\"\\nThe correlation coefficient for republicans to vote yes was {}\".format(rr_correlation))\n",
    "print(\"\\nThe correlation coefficient for democrats to vote yes was {}\".format(dd_correlation))"
   ]
  },
  {
   "cell_type": "code",
   "execution_count": 28,
   "metadata": {},
   "outputs": [
    {
     "data": {
      "text/plain": [
       "Text(0.5, 1.0, 'Total Contribution by Party')"
      ]
     },
     "execution_count": 28,
     "metadata": {},
     "output_type": "execute_result"
    },
    {
     "data": {
      "image/png": "[encoded data removed]",
      "text/plain": [
       "<Figure size 936x504 with 1 Axes>"
      ]
     },
     "metadata": {
      "needs_background": "light"
     },
     "output_type": "display_data"
    }
   ],
   "source": [
    "## visualize total contributions to each party\n",
    "sums = t_df.groupby('Party')['Total'].sum()\n",
    "ax = sums.plot(kind='barh', figsize=(13, 7), color='green', zorder=1, width=0.85)\n",
    "\n",
    "ax.spines['right'].set_visible(True)\n",
    "ax.spines['top'].set_visible(True)\n",
    "ax.spines['left'].set_visible(True)\n",
    "ax.spines['bottom'].set_visible(True)\n",
    "\n",
    "ax.tick_params(axis=\"both\", which=\"both\", bottom=\"off\", top=\"off\", labelbottom=\"on\", left=\"off\", right=\"off\", labelleft=\"on\")\n",
    "\n",
    "vals = ax.get_xticks()\n",
    "for tick in vals:\n",
    "    ax.axvline(x=tick, linestyle='none', alpha=0.3, color='#eeeeee', zorder=1)\n",
    "\n",
    "ax.set_xlabel(\"Total ($)\", labelpad=20, weight='bold', size=14)\n",
    "\n",
    "ax.set_ylabel(\"Political Party\", labelpad=20, weight='bold', size=13)\n",
    "\n",
    "ax.xaxis.set_major_formatter(StrMethodFormatter('{x:,g}'))\n",
    "\n",
    "def nice_axes(ax):\n",
    "    ax.set_facecolor('.9')\n",
    "    ax.tick_params(labelsize=9, length=0)\n",
    "    ax.grid(True, axis='x', color='white')\n",
    "    ax.set_axisbelow(True)\n",
    "    [spine.set_visible(False) for spine in ax.spines.values()]\n",
    "    \n",
    "nice_axes(ax)\n",
    "\n",
    "plt.title(\"Total Contribution by Party\", weight='bold', size=20)"
   ]
  },
  {
   "cell_type": "markdown",
   "metadata": {},
   "source": [
    "Republicans had the highest contribution total."
   ]
  }
 ],
 "metadata": {
  "kernelspec": {
   "display_name": "Python 3",
   "language": "python",
   "name": "python3"
  },
  "language_info": {
   "codemirror_mode": {
    "name": "ipython",
    "version": 3
   },
   "file_extension": ".py",
   "mimetype": "text/x-python",
   "name": "python",
   "nbconvert_exporter": "python",
   "pygments_lexer": "ipython3",
   "version": "3.7.6"
  }
 },
 "nbformat": 4,
 "nbformat_minor": 4
}
